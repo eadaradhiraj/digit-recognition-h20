{
 "cells": [
  {
   "cell_type": "code",
   "execution_count": 1,
   "metadata": {
    "collapsed": false
   },
   "outputs": [
    {
     "name": "stdout",
     "output_type": "stream",
     "text": [
      "Checking whether there is an H2O instance running at http://localhost:54321..... not found.\n",
      "Attempting to start a local H2O server...\n",
      "  Java Version: java version \"1.8.0_121\"; Java(TM) SE Runtime Environment (build 1.8.0_121-b13); Java HotSpot(TM) 64-Bit Server VM (build 25.121-b13, mixed mode)\n",
      "  Starting server from /home/sibi/acad/prog_tools/anaconda2/lib/python2.7/site-packages/h2o/backend/bin/h2o.jar\n",
      "  Ice root: /tmp/tmpQhtNKl\n",
      "  JVM stdout: /tmp/tmpQhtNKl/h2o_sibi_started_from_python.out\n",
      "  JVM stderr: /tmp/tmpQhtNKl/h2o_sibi_started_from_python.err\n",
      "  Server is running at http://127.0.0.1:54321\n",
      "Connecting to H2O server at http://127.0.0.1:54321... successful.\n"
     ]
    },
    {
     "data": {
      "text/html": [
       "<div style=\"overflow:auto\"><table style=\"width:50%\"><tr><td>H2O cluster uptime:</td>\n",
       "<td>04 secs</td></tr>\n",
       "<tr><td>H2O cluster version:</td>\n",
       "<td>3.11.0.3714</td></tr>\n",
       "<tr><td>H2O cluster version age:</td>\n",
       "<td>2 months and 24 days </td></tr>\n",
       "<tr><td>H2O cluster name:</td>\n",
       "<td>H2O_from_python_sibi_u9sho2</td></tr>\n",
       "<tr><td>H2O cluster total nodes:</td>\n",
       "<td>1</td></tr>\n",
       "<tr><td>H2O cluster free memory:</td>\n",
       "<td>1.670 Gb</td></tr>\n",
       "<tr><td>H2O cluster total cores:</td>\n",
       "<td>4</td></tr>\n",
       "<tr><td>H2O cluster allowed cores:</td>\n",
       "<td>4</td></tr>\n",
       "<tr><td>H2O cluster status:</td>\n",
       "<td>accepting new members, healthy</td></tr>\n",
       "<tr><td>H2O connection url:</td>\n",
       "<td>http://127.0.0.1:54321</td></tr>\n",
       "<tr><td>H2O connection proxy:</td>\n",
       "<td>None</td></tr>\n",
       "<tr><td>Python version:</td>\n",
       "<td>2.7.12 final</td></tr></table></div>"
      ],
      "text/plain": [
       "--------------------------  ------------------------------\n",
       "H2O cluster uptime:         04 secs\n",
       "H2O cluster version:        3.11.0.3714\n",
       "H2O cluster version age:    2 months and 24 days\n",
       "H2O cluster name:           H2O_from_python_sibi_u9sho2\n",
       "H2O cluster total nodes:    1\n",
       "H2O cluster free memory:    1.670 Gb\n",
       "H2O cluster total cores:    4\n",
       "H2O cluster allowed cores:  4\n",
       "H2O cluster status:         accepting new members, healthy\n",
       "H2O connection url:         http://127.0.0.1:54321\n",
       "H2O connection proxy:\n",
       "Python version:             2.7.12 final\n",
       "--------------------------  ------------------------------"
      ]
     },
     "metadata": {},
     "output_type": "display_data"
    }
   ],
   "source": [
    "import h2o\n",
    "from h2o.estimators.deeplearning import H2ODeepLearningEstimator\n",
    "h2o.init()"
   ]
  },
  {
   "cell_type": "code",
   "execution_count": 2,
   "metadata": {
    "collapsed": false
   },
   "outputs": [
    {
     "name": "stdout",
     "output_type": "stream",
     "text": [
      "Parse progress: |█████████████████████████████████████████████████████████| 100%\n",
      "Parse progress: |█████████████████████████████████████████████████████████| 100%\n"
     ]
    }
   ],
   "source": [
    "train_file = 'train.csv'\n",
    "test_file = 'test.csv'\n",
    "\n",
    "# load the data using h20 data frames\n",
    "train = h2o.import_file(train_file)\n",
    "test = h2o.import_file(test_file)"
   ]
  },
  {
   "cell_type": "code",
   "execution_count": 3,
   "metadata": {
    "collapsed": false
   },
   "outputs": [
    {
     "name": "stdout",
     "output_type": "stream",
     "text": [
      "(42000, 785)\n",
      "(28000, 784)\n"
     ]
    }
   ],
   "source": [
    "print train.shape\n",
    "print test.shape"
   ]
  },
  {
   "cell_type": "code",
   "execution_count": 10,
   "metadata": {
    "collapsed": true
   },
   "outputs": [],
   "source": [
    "r = train.runif()   \n",
    "\n",
    "# all values of r under .8 are assigned to 'train_split' (80 percent)\n",
    "train_split = train[r  < 0.8]\n",
    "\n",
    "# all values of r equal or above .8 are assigned 'valid_split' (20 percent)\n",
    "valid_split = train[r >= 0.8]"
   ]
  },
  {
   "cell_type": "code",
   "execution_count": 11,
   "metadata": {
    "collapsed": false
   },
   "outputs": [
    {
     "data": {
      "text/plain": [
       "(42000, 1)"
      ]
     },
     "execution_count": 11,
     "metadata": {},
     "output_type": "execute_result"
    }
   ],
   "source": [
    "r.shape"
   ]
  },
  {
   "cell_type": "code",
   "execution_count": 12,
   "metadata": {
    "collapsed": false
   },
   "outputs": [
    {
     "name": "stdout",
     "output_type": "stream",
     "text": [
      "deeplearning Model Build progress: |██████████████████████████████████████| 100%\n"
     ]
    }
   ],
   "source": [
    "# Make the label as a categorical variable\n",
    "train_split[\"label\"] = train_split[\"label\"].asfactor()\n",
    "valid_split[\"label\"] = valid_split[\"label\"].asfactor()\n",
    "\n",
    "# set parameters for the model\n",
    "model = H2ODeepLearningEstimator(\n",
    "        distribution=\"multinomial\",\n",
    "        activation=\"RectifierWithDropout\",\n",
    "        hidden=[100,200,100],\n",
    "        input_dropout_ratio=0.2, \n",
    "        sparse=True, \n",
    "        l1=1e-5, \n",
    "        epochs=100)\n",
    "\n",
    "model.train(\n",
    "        x= train.names[1:785], \n",
    "        y=train.names[0], \n",
    "        training_frame=train_split, \n",
    "        validation_frame=valid_split)"
   ]
  },
  {
   "cell_type": "code",
   "execution_count": 14,
   "metadata": {
    "collapsed": false
   },
   "outputs": [
    {
     "data": {
      "text/plain": [
       "{u'activation': {u'actual': u'RectifierWithDropout', u'default': u'Rectifier'},\n",
       " u'adaptive_rate': {u'actual': True, u'default': True},\n",
       " u'autoencoder': {u'actual': False, u'default': False},\n",
       " u'average_activation': {u'actual': 0.0, u'default': 0.0},\n",
       " u'balance_classes': {u'actual': False, u'default': False},\n",
       " u'categorical_encoding': {u'actual': u'AUTO', u'default': u'AUTO'},\n",
       " u'checkpoint': {u'actual': None, u'default': None},\n",
       " u'class_sampling_factors': {u'actual': None, u'default': None},\n",
       " u'classification_stop': {u'actual': 0.0, u'default': 0.0},\n",
       " u'col_major': {u'actual': False, u'default': False},\n",
       " u'diagnostics': {u'actual': True, u'default': True},\n",
       " u'distribution': {u'actual': u'multinomial', u'default': u'AUTO'},\n",
       " u'elastic_averaging': {u'actual': False, u'default': False},\n",
       " u'elastic_averaging_moving_rate': {u'actual': 0.9, u'default': 0.9},\n",
       " u'elastic_averaging_regularization': {u'actual': 0.001, u'default': 0.001},\n",
       " u'epochs': {u'actual': 100.0, u'default': 10.0},\n",
       " u'epsilon': {u'actual': 1e-08, u'default': 1e-08},\n",
       " u'export_weights_and_biases': {u'actual': False, u'default': False},\n",
       " u'fast_mode': {u'actual': True, u'default': True},\n",
       " u'fold_assignment': {u'actual': u'AUTO', u'default': u'AUTO'},\n",
       " u'fold_column': {u'actual': None, u'default': None},\n",
       " u'force_load_balance': {u'actual': True, u'default': True},\n",
       " u'hidden': {u'actual': [100, 200, 100], u'default': [200, 200]},\n",
       " u'hidden_dropout_ratios': {u'actual': None, u'default': None},\n",
       " u'huber_alpha': {u'actual': 0.9, u'default': 0.9},\n",
       " u'ignore_const_cols': {u'actual': True, u'default': True},\n",
       " u'ignored_columns': {u'actual': None, u'default': None},\n",
       " u'initial_biases': {u'actual': None, u'default': None},\n",
       " u'initial_weight_distribution': {u'actual': u'UniformAdaptive',\n",
       "  u'default': u'UniformAdaptive'},\n",
       " u'initial_weight_scale': {u'actual': 1.0, u'default': 1.0},\n",
       " u'initial_weights': {u'actual': None, u'default': None},\n",
       " u'input_dropout_ratio': {u'actual': 0.2, u'default': 0.0},\n",
       " u'keep_cross_validation_fold_assignment': {u'actual': False,\n",
       "  u'default': False},\n",
       " u'keep_cross_validation_predictions': {u'actual': False, u'default': False},\n",
       " u'l1': {u'actual': 1e-05, u'default': 0.0},\n",
       " u'l2': {u'actual': 0.0, u'default': 0.0},\n",
       " u'loss': {u'actual': u'Automatic', u'default': u'Automatic'},\n",
       " u'max_after_balance_size': {u'actual': 5.0, u'default': 5.0},\n",
       " u'max_categorical_features': {u'actual': 2147483647, u'default': 2147483647},\n",
       " u'max_confusion_matrix_size': {u'actual': 20, u'default': 20},\n",
       " u'max_hit_ratio_k': {u'actual': 0, u'default': 0},\n",
       " u'max_runtime_secs': {u'actual': 0.0, u'default': 0.0},\n",
       " u'max_w2': {u'actual': 3.4028235e+38, u'default': 3.4028235e+38},\n",
       " u'mini_batch_size': {u'actual': 1, u'default': 1},\n",
       " u'missing_values_handling': {u'actual': u'MeanImputation',\n",
       "  u'default': u'MeanImputation'},\n",
       " u'model_id': {u'actual': {u'URL': u'/3/Models/DeepLearning_model_python_1488681132831_1',\n",
       "   u'__meta': {u'schema_name': u'ModelKeyV3',\n",
       "    u'schema_type': u'Key<Model>',\n",
       "    u'schema_version': 3},\n",
       "   u'name': u'DeepLearning_model_python_1488681132831_1',\n",
       "   u'type': u'Key<Model>'},\n",
       "  u'default': None},\n",
       " u'momentum_ramp': {u'actual': 1000000.0, u'default': 1000000.0},\n",
       " u'momentum_stable': {u'actual': 0.0, u'default': 0.0},\n",
       " u'momentum_start': {u'actual': 0.0, u'default': 0.0},\n",
       " u'nesterov_accelerated_gradient': {u'actual': True, u'default': True},\n",
       " u'nfolds': {u'actual': 0, u'default': 0},\n",
       " u'offset_column': {u'actual': None, u'default': None},\n",
       " u'overwrite_with_best_model': {u'actual': True, u'default': True},\n",
       " u'pretrained_autoencoder': {u'actual': None, u'default': None},\n",
       " u'quantile_alpha': {u'actual': 0.5, u'default': 0.5},\n",
       " u'quiet_mode': {u'actual': False, u'default': False},\n",
       " u'rate': {u'actual': 0.005, u'default': 0.005},\n",
       " u'rate_annealing': {u'actual': 1e-06, u'default': 1e-06},\n",
       " u'rate_decay': {u'actual': 1.0, u'default': 1.0},\n",
       " u'regression_stop': {u'actual': 1e-06, u'default': 1e-06},\n",
       " u'replicate_training_data': {u'actual': True, u'default': True},\n",
       " u'reproducible': {u'actual': False, u'default': False},\n",
       " u'response_column': {u'actual': {u'__meta': {u'schema_name': u'ColSpecifierV3',\n",
       "    u'schema_type': u'VecSpecifier',\n",
       "    u'schema_version': 3},\n",
       "   u'column_name': u'label',\n",
       "   u'is_member_of_frames': None},\n",
       "  u'default': None},\n",
       " u'rho': {u'actual': 0.99, u'default': 0.99},\n",
       " u'score_duty_cycle': {u'actual': 0.1, u'default': 0.1},\n",
       " u'score_each_iteration': {u'actual': False, u'default': False},\n",
       " u'score_interval': {u'actual': 5.0, u'default': 5.0},\n",
       " u'score_training_samples': {u'actual': 10000, u'default': 10000},\n",
       " u'score_validation_samples': {u'actual': 0, u'default': 0},\n",
       " u'score_validation_sampling': {u'actual': u'Uniform', u'default': u'Uniform'},\n",
       " u'seed': {u'actual': -4130386233711381348, u'default': -1},\n",
       " u'shuffle_training_data': {u'actual': False, u'default': False},\n",
       " u'single_node_mode': {u'actual': False, u'default': False},\n",
       " u'sparse': {u'actual': True, u'default': False},\n",
       " u'sparsity_beta': {u'actual': 0.0, u'default': 0.0},\n",
       " u'standardize': {u'actual': True, u'default': True},\n",
       " u'stopping_metric': {u'actual': u'AUTO', u'default': u'AUTO'},\n",
       " u'stopping_rounds': {u'actual': 5, u'default': 5},\n",
       " u'stopping_tolerance': {u'actual': 0.0, u'default': 0.0},\n",
       " u'target_ratio_comm_to_comp': {u'actual': 0.05, u'default': 0.05},\n",
       " u'train_samples_per_iteration': {u'actual': -2, u'default': -2},\n",
       " u'training_frame': {u'actual': {u'URL': u'/3/Frames/py_5_sid_b1b9',\n",
       "   u'__meta': {u'schema_name': u'FrameKeyV3',\n",
       "    u'schema_type': u'Key<Frame>',\n",
       "    u'schema_version': 3},\n",
       "   u'name': u'py_5_sid_b1b9',\n",
       "   u'type': u'Key<Frame>'},\n",
       "  u'default': None},\n",
       " u'tweedie_power': {u'actual': 1.5, u'default': 1.5},\n",
       " u'use_all_factor_levels': {u'actual': True, u'default': True},\n",
       " u'validation_frame': {u'actual': {u'URL': u'/3/Frames/py_6_sid_b1b9',\n",
       "   u'__meta': {u'schema_name': u'FrameKeyV3',\n",
       "    u'schema_type': u'Key<Frame>',\n",
       "    u'schema_version': 3},\n",
       "   u'name': u'py_6_sid_b1b9',\n",
       "   u'type': u'Key<Frame>'},\n",
       "  u'default': None},\n",
       " u'variable_importances': {u'actual': False, u'default': False},\n",
       " u'weights_column': {u'actual': None, u'default': None}}"
      ]
     },
     "execution_count": 14,
     "metadata": {},
     "output_type": "execute_result"
    }
   ],
   "source": [
    "# View the specified parameters of your Deep Learning model\n",
    "model.params"
   ]
  },
  {
   "cell_type": "code",
   "execution_count": 16,
   "metadata": {
    "collapsed": false
   },
   "outputs": [
    {
     "name": "stdout",
     "output_type": "stream",
     "text": [
      "Model Details\n",
      "=============\n",
      "H2ODeepLearningEstimator :  Deep Learning\n",
      "Model Key:  DeepLearning_model_python_1488681132831_1\n",
      "\n",
      "\n",
      "ModelMetricsMultinomial: deeplearning\n",
      "** Reported on train data. **\n",
      "\n",
      "MSE: 0.0124571212853\n",
      "RMSE: 0.111611474703\n",
      "LogLoss: 0.0455751628765\n",
      "Mean Per-Class Error: 0.0134417299477\n",
      "Confusion Matrix: vertical: actual; across: predicted\n",
      "\n"
     ]
    },
    {
     "data": {
      "text/html": [
       "<div style=\"overflow:auto\"><table style=\"width:50%\"><tr><td><b>0</b></td>\n",
       "<td><b>1</b></td>\n",
       "<td><b>2</b></td>\n",
       "<td><b>3</b></td>\n",
       "<td><b>4</b></td>\n",
       "<td><b>5</b></td>\n",
       "<td><b>6</b></td>\n",
       "<td><b>7</b></td>\n",
       "<td><b>8</b></td>\n",
       "<td><b>9</b></td>\n",
       "<td><b>Error</b></td>\n",
       "<td><b>Rate</b></td></tr>\n",
       "<tr><td>1003.0</td>\n",
       "<td>0.0</td>\n",
       "<td>1.0</td>\n",
       "<td>0.0</td>\n",
       "<td>0.0</td>\n",
       "<td>0.0</td>\n",
       "<td>4.0</td>\n",
       "<td>0.0</td>\n",
       "<td>4.0</td>\n",
       "<td>0.0</td>\n",
       "<td>0.0088933</td>\n",
       "<td>9 / 1,012</td></tr>\n",
       "<tr><td>0.0</td>\n",
       "<td>1114.0</td>\n",
       "<td>4.0</td>\n",
       "<td>0.0</td>\n",
       "<td>0.0</td>\n",
       "<td>1.0</td>\n",
       "<td>0.0</td>\n",
       "<td>1.0</td>\n",
       "<td>2.0</td>\n",
       "<td>0.0</td>\n",
       "<td>0.0071301</td>\n",
       "<td>8 / 1,122</td></tr>\n",
       "<tr><td>0.0</td>\n",
       "<td>0.0</td>\n",
       "<td>943.0</td>\n",
       "<td>1.0</td>\n",
       "<td>0.0</td>\n",
       "<td>0.0</td>\n",
       "<td>0.0</td>\n",
       "<td>2.0</td>\n",
       "<td>5.0</td>\n",
       "<td>0.0</td>\n",
       "<td>0.0084122</td>\n",
       "<td>8 / 951</td></tr>\n",
       "<tr><td>0.0</td>\n",
       "<td>0.0</td>\n",
       "<td>7.0</td>\n",
       "<td>957.0</td>\n",
       "<td>0.0</td>\n",
       "<td>5.0</td>\n",
       "<td>0.0</td>\n",
       "<td>7.0</td>\n",
       "<td>5.0</td>\n",
       "<td>1.0</td>\n",
       "<td>0.0254582</td>\n",
       "<td>25 / 982</td></tr>\n",
       "<tr><td>0.0</td>\n",
       "<td>0.0</td>\n",
       "<td>1.0</td>\n",
       "<td>0.0</td>\n",
       "<td>976.0</td>\n",
       "<td>0.0</td>\n",
       "<td>2.0</td>\n",
       "<td>1.0</td>\n",
       "<td>0.0</td>\n",
       "<td>4.0</td>\n",
       "<td>0.0081301</td>\n",
       "<td>8 / 984</td></tr>\n",
       "<tr><td>0.0</td>\n",
       "<td>0.0</td>\n",
       "<td>0.0</td>\n",
       "<td>6.0</td>\n",
       "<td>0.0</td>\n",
       "<td>859.0</td>\n",
       "<td>6.0</td>\n",
       "<td>0.0</td>\n",
       "<td>1.0</td>\n",
       "<td>0.0</td>\n",
       "<td>0.0149083</td>\n",
       "<td>13 / 872</td></tr>\n",
       "<tr><td>2.0</td>\n",
       "<td>2.0</td>\n",
       "<td>0.0</td>\n",
       "<td>0.0</td>\n",
       "<td>2.0</td>\n",
       "<td>3.0</td>\n",
       "<td>1031.0</td>\n",
       "<td>0.0</td>\n",
       "<td>2.0</td>\n",
       "<td>0.0</td>\n",
       "<td>0.0105566</td>\n",
       "<td>11 / 1,042</td></tr>\n",
       "<tr><td>0.0</td>\n",
       "<td>3.0</td>\n",
       "<td>7.0</td>\n",
       "<td>1.0</td>\n",
       "<td>0.0</td>\n",
       "<td>0.0</td>\n",
       "<td>0.0</td>\n",
       "<td>1053.0</td>\n",
       "<td>0.0</td>\n",
       "<td>3.0</td>\n",
       "<td>0.0131209</td>\n",
       "<td>14 / 1,067</td></tr>\n",
       "<tr><td>0.0</td>\n",
       "<td>1.0</td>\n",
       "<td>1.0</td>\n",
       "<td>2.0</td>\n",
       "<td>1.0</td>\n",
       "<td>0.0</td>\n",
       "<td>0.0</td>\n",
       "<td>0.0</td>\n",
       "<td>940.0</td>\n",
       "<td>1.0</td>\n",
       "<td>0.0063425</td>\n",
       "<td>6 / 946</td></tr>\n",
       "<tr><td>2.0</td>\n",
       "<td>1.0</td>\n",
       "<td>0.0</td>\n",
       "<td>3.0</td>\n",
       "<td>11.0</td>\n",
       "<td>2.0</td>\n",
       "<td>0.0</td>\n",
       "<td>7.0</td>\n",
       "<td>6.0</td>\n",
       "<td>985.0</td>\n",
       "<td>0.0314651</td>\n",
       "<td>32 / 1,017</td></tr>\n",
       "<tr><td>1007.0</td>\n",
       "<td>1121.0</td>\n",
       "<td>964.0</td>\n",
       "<td>970.0</td>\n",
       "<td>990.0</td>\n",
       "<td>870.0</td>\n",
       "<td>1043.0</td>\n",
       "<td>1071.0</td>\n",
       "<td>965.0</td>\n",
       "<td>994.0</td>\n",
       "<td>0.0134067</td>\n",
       "<td>134 / 9,995</td></tr></table></div>"
      ],
      "text/plain": [
       "0     1     2    3    4    5    6     7     8    9    Error       Rate\n",
       "----  ----  ---  ---  ---  ---  ----  ----  ---  ---  ----------  -----------\n",
       "1003  0     1    0    0    0    4     0     4    0    0.00889328  9 / 1,012\n",
       "0     1114  4    0    0    1    0     1     2    0    0.00713012  8 / 1,122\n",
       "0     0     943  1    0    0    0     2     5    0    0.0084122   8 / 951\n",
       "0     0     7    957  0    5    0     7     5    1    0.0254582   25 / 982\n",
       "0     0     1    0    976  0    2     1     0    4    0.00813008  8 / 984\n",
       "0     0     0    6    0    859  6     0     1    0    0.0149083   13 / 872\n",
       "2     2     0    0    2    3    1031  0     2    0    0.0105566   11 / 1,042\n",
       "0     3     7    1    0    0    0     1053  0    3    0.0131209   14 / 1,067\n",
       "0     1     1    2    1    0    0     0     940  1    0.00634249  6 / 946\n",
       "2     1     0    3    11   2    0     7     6    985  0.0314651   32 / 1,017\n",
       "1007  1121  964  970  990  870  1043  1071  965  994  0.0134067   134 / 9,995"
      ]
     },
     "metadata": {},
     "output_type": "display_data"
    },
    {
     "name": "stdout",
     "output_type": "stream",
     "text": [
      "Top-10 Hit Ratios: \n"
     ]
    },
    {
     "data": {
      "text/html": [
       "<div style=\"overflow:auto\"><table style=\"width:50%\"><tr><td><b>k</b></td>\n",
       "<td><b>hit_ratio</b></td></tr>\n",
       "<tr><td>1</td>\n",
       "<td>0.9865933</td></tr>\n",
       "<tr><td>2</td>\n",
       "<td>0.9966984</td></tr>\n",
       "<tr><td>3</td>\n",
       "<td>0.9989995</td></tr>\n",
       "<tr><td>4</td>\n",
       "<td>0.9994998</td></tr>\n",
       "<tr><td>5</td>\n",
       "<td>0.9995999</td></tr>\n",
       "<tr><td>6</td>\n",
       "<td>0.9999000</td></tr>\n",
       "<tr><td>7</td>\n",
       "<td>1.0000001</td></tr>\n",
       "<tr><td>8</td>\n",
       "<td>1.0000001</td></tr>\n",
       "<tr><td>9</td>\n",
       "<td>1.0000001</td></tr>\n",
       "<tr><td>10</td>\n",
       "<td>1.0000001</td></tr></table></div>"
      ],
      "text/plain": [
       "k    hit_ratio\n",
       "---  -----------\n",
       "1    0.986593\n",
       "2    0.996698\n",
       "3    0.999\n",
       "4    0.9995\n",
       "5    0.9996\n",
       "6    0.9999\n",
       "7    1\n",
       "8    1\n",
       "9    1\n",
       "10   1"
      ]
     },
     "metadata": {},
     "output_type": "display_data"
    },
    {
     "name": "stdout",
     "output_type": "stream",
     "text": [
      "\n",
      "ModelMetricsMultinomial: deeplearning\n",
      "** Reported on validation data. **\n",
      "\n",
      "MSE: 0.0264325362919\n",
      "RMSE: 0.16258086078\n",
      "LogLoss: 0.129237224106\n",
      "Mean Per-Class Error: 0.0292907215528\n",
      "Confusion Matrix: vertical: actual; across: predicted\n",
      "\n"
     ]
    },
    {
     "data": {
      "text/html": [
       "<div style=\"overflow:auto\"><table style=\"width:50%\"><tr><td><b>0</b></td>\n",
       "<td><b>1</b></td>\n",
       "<td><b>2</b></td>\n",
       "<td><b>3</b></td>\n",
       "<td><b>4</b></td>\n",
       "<td><b>5</b></td>\n",
       "<td><b>6</b></td>\n",
       "<td><b>7</b></td>\n",
       "<td><b>8</b></td>\n",
       "<td><b>9</b></td>\n",
       "<td><b>Error</b></td>\n",
       "<td><b>Rate</b></td></tr>\n",
       "<tr><td>850.0</td>\n",
       "<td>0.0</td>\n",
       "<td>3.0</td>\n",
       "<td>1.0</td>\n",
       "<td>1.0</td>\n",
       "<td>1.0</td>\n",
       "<td>4.0</td>\n",
       "<td>1.0</td>\n",
       "<td>5.0</td>\n",
       "<td>0.0</td>\n",
       "<td>0.0184758</td>\n",
       "<td>16 / 866</td></tr>\n",
       "<tr><td>0.0</td>\n",
       "<td>889.0</td>\n",
       "<td>5.0</td>\n",
       "<td>2.0</td>\n",
       "<td>4.0</td>\n",
       "<td>2.0</td>\n",
       "<td>0.0</td>\n",
       "<td>3.0</td>\n",
       "<td>4.0</td>\n",
       "<td>0.0</td>\n",
       "<td>0.0220022</td>\n",
       "<td>20 / 909</td></tr>\n",
       "<tr><td>2.0</td>\n",
       "<td>1.0</td>\n",
       "<td>845.0</td>\n",
       "<td>5.0</td>\n",
       "<td>3.0</td>\n",
       "<td>0.0</td>\n",
       "<td>2.0</td>\n",
       "<td>11.0</td>\n",
       "<td>3.0</td>\n",
       "<td>1.0</td>\n",
       "<td>0.0320733</td>\n",
       "<td>28 / 873</td></tr>\n",
       "<tr><td>2.0</td>\n",
       "<td>0.0</td>\n",
       "<td>4.0</td>\n",
       "<td>859.0</td>\n",
       "<td>0.0</td>\n",
       "<td>12.0</td>\n",
       "<td>0.0</td>\n",
       "<td>3.0</td>\n",
       "<td>2.0</td>\n",
       "<td>2.0</td>\n",
       "<td>0.0282805</td>\n",
       "<td>25 / 884</td></tr>\n",
       "<tr><td>1.0</td>\n",
       "<td>0.0</td>\n",
       "<td>2.0</td>\n",
       "<td>0.0</td>\n",
       "<td>787.0</td>\n",
       "<td>0.0</td>\n",
       "<td>1.0</td>\n",
       "<td>2.0</td>\n",
       "<td>4.0</td>\n",
       "<td>6.0</td>\n",
       "<td>0.0199253</td>\n",
       "<td>16 / 803</td></tr>\n",
       "<tr><td>2.0</td>\n",
       "<td>2.0</td>\n",
       "<td>0.0</td>\n",
       "<td>10.0</td>\n",
       "<td>3.0</td>\n",
       "<td>771.0</td>\n",
       "<td>7.0</td>\n",
       "<td>0.0</td>\n",
       "<td>4.0</td>\n",
       "<td>1.0</td>\n",
       "<td>0.03625</td>\n",
       "<td>29 / 800</td></tr>\n",
       "<tr><td>2.0</td>\n",
       "<td>1.0</td>\n",
       "<td>1.0</td>\n",
       "<td>0.0</td>\n",
       "<td>5.0</td>\n",
       "<td>4.0</td>\n",
       "<td>819.0</td>\n",
       "<td>1.0</td>\n",
       "<td>2.0</td>\n",
       "<td>0.0</td>\n",
       "<td>0.0191617</td>\n",
       "<td>16 / 835</td></tr>\n",
       "<tr><td>2.0</td>\n",
       "<td>3.0</td>\n",
       "<td>4.0</td>\n",
       "<td>2.0</td>\n",
       "<td>3.0</td>\n",
       "<td>0.0</td>\n",
       "<td>0.0</td>\n",
       "<td>815.0</td>\n",
       "<td>1.0</td>\n",
       "<td>4.0</td>\n",
       "<td>0.0227818</td>\n",
       "<td>19 / 834</td></tr>\n",
       "<tr><td>2.0</td>\n",
       "<td>3.0</td>\n",
       "<td>4.0</td>\n",
       "<td>3.0</td>\n",
       "<td>5.0</td>\n",
       "<td>7.0</td>\n",
       "<td>3.0</td>\n",
       "<td>2.0</td>\n",
       "<td>780.0</td>\n",
       "<td>1.0</td>\n",
       "<td>0.0370370</td>\n",
       "<td>30 / 810</td></tr>\n",
       "<tr><td>3.0</td>\n",
       "<td>1.0</td>\n",
       "<td>2.0</td>\n",
       "<td>7.0</td>\n",
       "<td>14.0</td>\n",
       "<td>5.0</td>\n",
       "<td>0.0</td>\n",
       "<td>12.0</td>\n",
       "<td>7.0</td>\n",
       "<td>845.0</td>\n",
       "<td>0.0569196</td>\n",
       "<td>51 / 896</td></tr>\n",
       "<tr><td>866.0</td>\n",
       "<td>900.0</td>\n",
       "<td>870.0</td>\n",
       "<td>889.0</td>\n",
       "<td>825.0</td>\n",
       "<td>802.0</td>\n",
       "<td>836.0</td>\n",
       "<td>850.0</td>\n",
       "<td>812.0</td>\n",
       "<td>860.0</td>\n",
       "<td>0.0293772</td>\n",
       "<td>250 / 8,510</td></tr></table></div>"
      ],
      "text/plain": [
       "0    1    2    3    4    5    6    7    8    9    Error      Rate\n",
       "---  ---  ---  ---  ---  ---  ---  ---  ---  ---  ---------  -----------\n",
       "850  0    3    1    1    1    4    1    5    0    0.0184758  16 / 866\n",
       "0    889  5    2    4    2    0    3    4    0    0.0220022  20 / 909\n",
       "2    1    845  5    3    0    2    11   3    1    0.0320733  28 / 873\n",
       "2    0    4    859  0    12   0    3    2    2    0.0282805  25 / 884\n",
       "1    0    2    0    787  0    1    2    4    6    0.0199253  16 / 803\n",
       "2    2    0    10   3    771  7    0    4    1    0.03625    29 / 800\n",
       "2    1    1    0    5    4    819  1    2    0    0.0191617  16 / 835\n",
       "2    3    4    2    3    0    0    815  1    4    0.0227818  19 / 834\n",
       "2    3    4    3    5    7    3    2    780  1    0.037037   30 / 810\n",
       "3    1    2    7    14   5    0    12   7    845  0.0569196  51 / 896\n",
       "866  900  870  889  825  802  836  850  812  860  0.0293772  250 / 8,510"
      ]
     },
     "metadata": {},
     "output_type": "display_data"
    },
    {
     "name": "stdout",
     "output_type": "stream",
     "text": [
      "Top-10 Hit Ratios: \n"
     ]
    },
    {
     "data": {
      "text/html": [
       "<div style=\"overflow:auto\"><table style=\"width:50%\"><tr><td><b>k</b></td>\n",
       "<td><b>hit_ratio</b></td></tr>\n",
       "<tr><td>1</td>\n",
       "<td>0.9706228</td></tr>\n",
       "<tr><td>2</td>\n",
       "<td>0.9889541</td></tr>\n",
       "<tr><td>3</td>\n",
       "<td>0.9938895</td></tr>\n",
       "<tr><td>4</td>\n",
       "<td>0.9963572</td></tr>\n",
       "<tr><td>5</td>\n",
       "<td>0.9975323</td></tr>\n",
       "<tr><td>6</td>\n",
       "<td>0.9982374</td></tr>\n",
       "<tr><td>7</td>\n",
       "<td>0.9990599</td></tr>\n",
       "<tr><td>8</td>\n",
       "<td>0.9996474</td></tr>\n",
       "<tr><td>9</td>\n",
       "<td>0.9997649</td></tr>\n",
       "<tr><td>10</td>\n",
       "<td>0.9999999</td></tr></table></div>"
      ],
      "text/plain": [
       "k    hit_ratio\n",
       "---  -----------\n",
       "1    0.970623\n",
       "2    0.988954\n",
       "3    0.993889\n",
       "4    0.996357\n",
       "5    0.997532\n",
       "6    0.998237\n",
       "7    0.99906\n",
       "8    0.999647\n",
       "9    0.999765\n",
       "10   1"
      ]
     },
     "metadata": {},
     "output_type": "display_data"
    },
    {
     "name": "stdout",
     "output_type": "stream",
     "text": [
      "Scoring History: \n"
     ]
    },
    {
     "data": {
      "text/html": [
       "<div style=\"overflow:auto\"><table style=\"width:50%\"><tr><td><b></b></td>\n",
       "<td><b>timestamp</b></td>\n",
       "<td><b>duration</b></td>\n",
       "<td><b>training_speed</b></td>\n",
       "<td><b>epochs</b></td>\n",
       "<td><b>iterations</b></td>\n",
       "<td><b>samples</b></td>\n",
       "<td><b>training_rmse</b></td>\n",
       "<td><b>training_logloss</b></td>\n",
       "<td><b>training_classification_error</b></td>\n",
       "<td><b>validation_rmse</b></td>\n",
       "<td><b>validation_logloss</b></td>\n",
       "<td><b>validation_classification_error</b></td></tr>\n",
       "<tr><td></td>\n",
       "<td>2017-03-04 20:37:16</td>\n",
       "<td> 0.000 sec</td>\n",
       "<td>None</td>\n",
       "<td>0.0</td>\n",
       "<td>0</td>\n",
       "<td>0.0</td>\n",
       "<td>nan</td>\n",
       "<td>nan</td>\n",
       "<td>nan</td>\n",
       "<td>nan</td>\n",
       "<td>nan</td>\n",
       "<td>nan</td></tr>\n",
       "<tr><td></td>\n",
       "<td>2017-03-04 20:37:19</td>\n",
       "<td> 5.095 sec</td>\n",
       "<td>6286 obs/sec</td>\n",
       "<td>0.4818752</td>\n",
       "<td>1</td>\n",
       "<td>16138.0</td>\n",
       "<td>0.4146557</td>\n",
       "<td>0.5405485</td>\n",
       "<td>0.1798899</td>\n",
       "<td>0.4153967</td>\n",
       "<td>0.5471222</td>\n",
       "<td>0.1772033</td></tr>\n",
       "<tr><td></td>\n",
       "<td>2017-03-04 20:37:37</td>\n",
       "<td>21.750 sec</td>\n",
       "<td>9785 obs/sec</td>\n",
       "<td>5.2971932</td>\n",
       "<td>11</td>\n",
       "<td>177403.0</td>\n",
       "<td>0.2247462</td>\n",
       "<td>0.2051233</td>\n",
       "<td>0.0580290</td>\n",
       "<td>0.2373726</td>\n",
       "<td>0.2411092</td>\n",
       "<td>0.0653349</td></tr>\n",
       "<tr><td></td>\n",
       "<td>2017-03-04 20:37:48</td>\n",
       "<td>32.932 sec</td>\n",
       "<td>10276 obs/sec</td>\n",
       "<td>8.6736339</td>\n",
       "<td>18</td>\n",
       "<td>290480.0</td>\n",
       "<td>0.2005067</td>\n",
       "<td>0.1576636</td>\n",
       "<td>0.0470235</td>\n",
       "<td>0.2154192</td>\n",
       "<td>0.1949889</td>\n",
       "<td>0.0525264</td></tr>\n",
       "<tr><td></td>\n",
       "<td>2017-03-04 20:37:59</td>\n",
       "<td>43.749 sec</td>\n",
       "<td>10609 obs/sec</td>\n",
       "<td>12.0444312</td>\n",
       "<td>25</td>\n",
       "<td>403368.0</td>\n",
       "<td>0.1870806</td>\n",
       "<td>0.1359910</td>\n",
       "<td>0.0402201</td>\n",
       "<td>0.2068322</td>\n",
       "<td>0.1819118</td>\n",
       "<td>0.0492362</td></tr>\n",
       "<tr><td>---</td>\n",
       "<td>---</td>\n",
       "<td>---</td>\n",
       "<td>---</td>\n",
       "<td>---</td>\n",
       "<td>---</td>\n",
       "<td>---</td>\n",
       "<td>---</td>\n",
       "<td>---</td>\n",
       "<td>---</td>\n",
       "<td>---</td>\n",
       "<td>---</td>\n",
       "<td>---</td></tr>\n",
       "<tr><td></td>\n",
       "<td>2017-03-04 20:42:22</td>\n",
       "<td> 5 min  7.548 sec</td>\n",
       "<td>10855 obs/sec</td>\n",
       "<td>89.6280084</td>\n",
       "<td>186</td>\n",
       "<td>3001642.0</td>\n",
       "<td>0.1104967</td>\n",
       "<td>0.0433351</td>\n",
       "<td>0.0141071</td>\n",
       "<td>0.1641690</td>\n",
       "<td>0.1335667</td>\n",
       "<td>0.0310223</td></tr>\n",
       "<tr><td></td>\n",
       "<td>2017-03-04 20:42:36</td>\n",
       "<td> 5 min 21.022 sec</td>\n",
       "<td>10896 obs/sec</td>\n",
       "<td>93.9530308</td>\n",
       "<td>195</td>\n",
       "<td>3146487.0</td>\n",
       "<td>0.1066096</td>\n",
       "<td>0.0403836</td>\n",
       "<td>0.0123062</td>\n",
       "<td>0.1667975</td>\n",
       "<td>0.1363472</td>\n",
       "<td>0.0320799</td></tr>\n",
       "<tr><td></td>\n",
       "<td>2017-03-04 20:42:49</td>\n",
       "<td> 5 min 34.712 sec</td>\n",
       "<td>10935 obs/sec</td>\n",
       "<td>98.2982084</td>\n",
       "<td>204</td>\n",
       "<td>3292007.0</td>\n",
       "<td>0.1036932</td>\n",
       "<td>0.0379276</td>\n",
       "<td>0.0122061</td>\n",
       "<td>0.1642417</td>\n",
       "<td>0.1383876</td>\n",
       "<td>0.0311398</td></tr>\n",
       "<tr><td></td>\n",
       "<td>2017-03-04 20:42:57</td>\n",
       "<td> 5 min 41.951 sec</td>\n",
       "<td>10933 obs/sec</td>\n",
       "<td>100.2227232</td>\n",
       "<td>208</td>\n",
       "<td>3356459.0</td>\n",
       "<td>0.1012928</td>\n",
       "<td>0.0369953</td>\n",
       "<td>0.0108054</td>\n",
       "<td>0.1631348</td>\n",
       "<td>0.1360056</td>\n",
       "<td>0.0299647</td></tr>\n",
       "<tr><td></td>\n",
       "<td>2017-03-04 20:42:58</td>\n",
       "<td> 5 min 43.245 sec</td>\n",
       "<td>10933 obs/sec</td>\n",
       "<td>100.2227232</td>\n",
       "<td>208</td>\n",
       "<td>3356459.0</td>\n",
       "<td>0.1116115</td>\n",
       "<td>0.0455752</td>\n",
       "<td>0.0134067</td>\n",
       "<td>0.1625809</td>\n",
       "<td>0.1292372</td>\n",
       "<td>0.0293772</td></tr></table></div>"
      ],
      "text/plain": [
       "     timestamp            duration          training_speed    epochs          iterations    samples    training_rmse    training_logloss    training_classification_error    validation_rmse    validation_logloss    validation_classification_error\n",
       "---  -------------------  ----------------  ----------------  --------------  ------------  ---------  ---------------  ------------------  -------------------------------  -----------------  --------------------  ---------------------------------\n",
       "     2017-03-04 20:37:16  0.000 sec                           0.0             0             0.0        nan              nan                 nan                              nan                nan                   nan\n",
       "     2017-03-04 20:37:19  5.095 sec         6286 obs/sec      0.481875186623  1             16138.0    0.414655714147   0.540548524149      0.179889944972                   0.415396740601     0.547122178774        0.177203290247\n",
       "     2017-03-04 20:37:37  21.750 sec        9785 obs/sec      5.297193192     11            177403.0   0.224746238355   0.205123308036      0.0580290145073                  0.237372552583     0.241109196357        0.0653349001175\n",
       "     2017-03-04 20:37:48  32.932 sec        10276 obs/sec     8.67363392057   18            290480.0   0.200506677674   0.157663574948      0.0470235117559                  0.215419154123     0.194988882779        0.052526439483\n",
       "     2017-03-04 20:37:59  43.749 sec        10609 obs/sec     12.0444311735   25            403368.0   0.187080647178   0.135990966365      0.040220110055                   0.206832187264     0.181911821517        0.0492361927145\n",
       "---  ---                  ---               ---               ---             ---           ---        ---              ---                 ---                              ---                ---                   ---\n",
       "     2017-03-04 20:42:22  5 min  7.548 sec  10855 obs/sec     89.6280083607   186           3001642.0  0.110496745023   0.0433350841909     0.0141070535268                  0.16416901127      0.133566678867        0.0310223266745\n",
       "     2017-03-04 20:42:36  5 min 21.022 sec  10896 obs/sec     93.9530307554   195           3146487.0  0.106609624416   0.0403835844176     0.0123061530765                  0.166797534676     0.136347200103        0.0320799059929\n",
       "     2017-03-04 20:42:49  5 min 34.712 sec  10935 obs/sec     98.2982084204   204           3292007.0  0.103693223664   0.0379276307413     0.0122061030515                  0.164241718035     0.138387600525        0.0311398354877\n",
       "     2017-03-04 20:42:57  5 min 41.951 sec  10933 obs/sec     100.222723201   208           3356459.0  0.10129281397    0.0369953321859     0.0108054027014                  0.163134843253     0.136005608666        0.0299647473561\n",
       "     2017-03-04 20:42:58  5 min 43.245 sec  10933 obs/sec     100.222723201   208           3356459.0  0.111611474703   0.0455751628765     0.0134067033517                  0.16258086078      0.129237224106        0.0293772032902"
      ]
     },
     "metadata": {},
     "output_type": "display_data"
    },
    {
     "name": "stdout",
     "output_type": "stream",
     "text": [
      "\n",
      "See the whole table with table.as_data_frame()\n"
     ]
    },
    {
     "data": {
      "text/plain": []
     },
     "execution_count": 16,
     "metadata": {},
     "output_type": "execute_result"
    }
   ],
   "source": [
    "model"
   ]
  },
  {
   "cell_type": "code",
   "execution_count": 17,
   "metadata": {
    "collapsed": false
   },
   "outputs": [
    {
     "name": "stdout",
     "output_type": "stream",
     "text": [
      "deeplearning prediction progress: |███████████████████████████████████████| 100%\n"
     ]
    },
    {
     "data": {
      "text/html": [
       "<table>\n",
       "<thead>\n",
       "<tr><th style=\"text-align: right;\">  predict</th><th style=\"text-align: right;\">         p0</th><th style=\"text-align: right;\">         p1</th><th style=\"text-align: right;\">         p2</th><th style=\"text-align: right;\">         p3</th><th style=\"text-align: right;\">         p4</th><th style=\"text-align: right;\">         p5</th><th style=\"text-align: right;\">         p6</th><th style=\"text-align: right;\">         p7</th><th style=\"text-align: right;\">         p8</th><th style=\"text-align: right;\">         p9</th></tr>\n",
       "</thead>\n",
       "<tbody>\n",
       "<tr><td style=\"text-align: right;\">        2</td><td style=\"text-align: right;\">2.62157e-15</td><td style=\"text-align: right;\">2.40704e-12</td><td style=\"text-align: right;\">1          </td><td style=\"text-align: right;\">9.3071e-11 </td><td style=\"text-align: right;\">3.36177e-17</td><td style=\"text-align: right;\">2.13515e-19</td><td style=\"text-align: right;\">1.12583e-16</td><td style=\"text-align: right;\">1.93711e-13</td><td style=\"text-align: right;\">3.32895e-12</td><td style=\"text-align: right;\">1.23592e-19</td></tr>\n",
       "<tr><td style=\"text-align: right;\">        0</td><td style=\"text-align: right;\">1          </td><td style=\"text-align: right;\">1.23889e-27</td><td style=\"text-align: right;\">1.15481e-15</td><td style=\"text-align: right;\">2.99181e-19</td><td style=\"text-align: right;\">2.10849e-19</td><td style=\"text-align: right;\">3.05238e-13</td><td style=\"text-align: right;\">5.56802e-13</td><td style=\"text-align: right;\">2.76195e-18</td><td style=\"text-align: right;\">7.86751e-15</td><td style=\"text-align: right;\">4.7735e-17 </td></tr>\n",
       "<tr><td style=\"text-align: right;\">        9</td><td style=\"text-align: right;\">1.91934e-05</td><td style=\"text-align: right;\">1.23563e-05</td><td style=\"text-align: right;\">1.47484e-05</td><td style=\"text-align: right;\">0.00037907 </td><td style=\"text-align: right;\">0.0164334  </td><td style=\"text-align: right;\">0.000544458</td><td style=\"text-align: right;\">4.52307e-06</td><td style=\"text-align: right;\">0.000646089</td><td style=\"text-align: right;\">0.00373402 </td><td style=\"text-align: right;\">0.978212   </td></tr>\n",
       "<tr><td style=\"text-align: right;\">        9</td><td style=\"text-align: right;\">0.0231589  </td><td style=\"text-align: right;\">0.00257685 </td><td style=\"text-align: right;\">0.0469162  </td><td style=\"text-align: right;\">0.00930916 </td><td style=\"text-align: right;\">0.190329   </td><td style=\"text-align: right;\">0.00823079 </td><td style=\"text-align: right;\">0.00410373 </td><td style=\"text-align: right;\">0.216325   </td><td style=\"text-align: right;\">0.00751788 </td><td style=\"text-align: right;\">0.491532   </td></tr>\n",
       "<tr><td style=\"text-align: right;\">        3</td><td style=\"text-align: right;\">7.16574e-08</td><td style=\"text-align: right;\">2.13389e-05</td><td style=\"text-align: right;\">0.000131309</td><td style=\"text-align: right;\">0.999587   </td><td style=\"text-align: right;\">2.44847e-08</td><td style=\"text-align: right;\">0.000130264</td><td style=\"text-align: right;\">1.45606e-08</td><td style=\"text-align: right;\">2.41305e-05</td><td style=\"text-align: right;\">8.64155e-05</td><td style=\"text-align: right;\">1.97726e-05</td></tr>\n",
       "<tr><td style=\"text-align: right;\">        7</td><td style=\"text-align: right;\">1.82611e-08</td><td style=\"text-align: right;\">1.09225e-05</td><td style=\"text-align: right;\">4.21866e-06</td><td style=\"text-align: right;\">1.12221e-05</td><td style=\"text-align: right;\">1.00825e-05</td><td style=\"text-align: right;\">8.64419e-08</td><td style=\"text-align: right;\">6.36194e-10</td><td style=\"text-align: right;\">0.99802    </td><td style=\"text-align: right;\">2.66033e-07</td><td style=\"text-align: right;\">0.00194349 </td></tr>\n",
       "<tr><td style=\"text-align: right;\">        0</td><td style=\"text-align: right;\">1          </td><td style=\"text-align: right;\">2.90124e-35</td><td style=\"text-align: right;\">7.45492e-20</td><td style=\"text-align: right;\">1.81148e-25</td><td style=\"text-align: right;\">2.02004e-23</td><td style=\"text-align: right;\">1.02432e-18</td><td style=\"text-align: right;\">2.06404e-15</td><td style=\"text-align: right;\">7.56488e-25</td><td style=\"text-align: right;\">4.43035e-19</td><td style=\"text-align: right;\">1.3913e-21 </td></tr>\n",
       "<tr><td style=\"text-align: right;\">        3</td><td style=\"text-align: right;\">7.61077e-16</td><td style=\"text-align: right;\">3.46934e-11</td><td style=\"text-align: right;\">2.77381e-10</td><td style=\"text-align: right;\">1          </td><td style=\"text-align: right;\">8.9683e-16 </td><td style=\"text-align: right;\">9.6258e-09 </td><td style=\"text-align: right;\">1.35612e-17</td><td style=\"text-align: right;\">2.71452e-10</td><td style=\"text-align: right;\">8.48918e-10</td><td style=\"text-align: right;\">1.63968e-09</td></tr>\n",
       "<tr><td style=\"text-align: right;\">        0</td><td style=\"text-align: right;\">1          </td><td style=\"text-align: right;\">5.08781e-26</td><td style=\"text-align: right;\">7.59243e-15</td><td style=\"text-align: right;\">4.35387e-18</td><td style=\"text-align: right;\">4.13106e-18</td><td style=\"text-align: right;\">9.51044e-13</td><td style=\"text-align: right;\">3.72399e-12</td><td style=\"text-align: right;\">2.27992e-17</td><td style=\"text-align: right;\">5.17174e-14</td><td style=\"text-align: right;\">1.11656e-15</td></tr>\n",
       "<tr><td style=\"text-align: right;\">        3</td><td style=\"text-align: right;\">1.78731e-15</td><td style=\"text-align: right;\">1.39524e-10</td><td style=\"text-align: right;\">5.78702e-10</td><td style=\"text-align: right;\">1          </td><td style=\"text-align: right;\">1.94865e-15</td><td style=\"text-align: right;\">4.91514e-08</td><td style=\"text-align: right;\">7.67668e-17</td><td style=\"text-align: right;\">1.61065e-10</td><td style=\"text-align: right;\">1.71879e-09</td><td style=\"text-align: right;\">1.70429e-09</td></tr>\n",
       "</tbody>\n",
       "</table>"
      ]
     },
     "metadata": {},
     "output_type": "display_data"
    },
    {
     "data": {
      "text/plain": []
     },
     "execution_count": 17,
     "metadata": {},
     "output_type": "execute_result"
    }
   ],
   "source": [
    "# Prediction on the test set\n",
    "pred = model.predict(test)\n",
    "\n",
    "pred.head()"
   ]
  },
  {
   "cell_type": "code",
   "execution_count": 20,
   "metadata": {
    "collapsed": false
   },
   "outputs": [
    {
     "data": {
      "text/html": [
       "<table>\n",
       "<thead>\n",
       "<tr><th style=\"text-align: right;\">  predict</th></tr>\n",
       "</thead>\n",
       "<tbody>\n",
       "<tr><td style=\"text-align: right;\">        2</td></tr>\n",
       "<tr><td style=\"text-align: right;\">        0</td></tr>\n",
       "<tr><td style=\"text-align: right;\">        9</td></tr>\n",
       "<tr><td style=\"text-align: right;\">        9</td></tr>\n",
       "<tr><td style=\"text-align: right;\">        3</td></tr>\n",
       "<tr><td style=\"text-align: right;\">        7</td></tr>\n",
       "<tr><td style=\"text-align: right;\">        0</td></tr>\n",
       "<tr><td style=\"text-align: right;\">        3</td></tr>\n",
       "<tr><td style=\"text-align: right;\">        0</td></tr>\n",
       "<tr><td style=\"text-align: right;\">        3</td></tr>\n",
       "</tbody>\n",
       "</table>"
      ]
     },
     "metadata": {},
     "output_type": "display_data"
    },
    {
     "data": {
      "text/plain": []
     },
     "execution_count": 20,
     "metadata": {},
     "output_type": "execute_result"
    }
   ],
   "source": [
    "# submission\n",
    "submit_pred = pred[:,0]\n",
    "submit_pred.head()"
   ]
  },
  {
   "cell_type": "code",
   "execution_count": 22,
   "metadata": {
    "collapsed": false
   },
   "outputs": [
    {
     "name": "stdout",
     "output_type": "stream",
     "text": [
      "Parse progress: |█████████████████████████████████████████████████████████| 100%\n"
     ]
    }
   ],
   "source": [
    "# submission dataframe\n",
    "submission_dataframe = h2o.H2OFrame({'ImageID': list(range(1, len(test)+1))}).cbind(submit_pred)\n",
    "submission_dataframe.set_name(1,\"Label\")"
   ]
  },
  {
   "cell_type": "code",
   "execution_count": 23,
   "metadata": {
    "collapsed": false
   },
   "outputs": [
    {
     "data": {
      "text/html": [
       "<table>\n",
       "<thead>\n",
       "<tr><th style=\"text-align: right;\">  ImageID</th><th style=\"text-align: right;\">  Label</th></tr>\n",
       "</thead>\n",
       "<tbody>\n",
       "<tr><td style=\"text-align: right;\">        1</td><td style=\"text-align: right;\">      2</td></tr>\n",
       "<tr><td style=\"text-align: right;\">        2</td><td style=\"text-align: right;\">      0</td></tr>\n",
       "<tr><td style=\"text-align: right;\">        3</td><td style=\"text-align: right;\">      9</td></tr>\n",
       "<tr><td style=\"text-align: right;\">        4</td><td style=\"text-align: right;\">      9</td></tr>\n",
       "<tr><td style=\"text-align: right;\">        5</td><td style=\"text-align: right;\">      3</td></tr>\n",
       "<tr><td style=\"text-align: right;\">        6</td><td style=\"text-align: right;\">      7</td></tr>\n",
       "<tr><td style=\"text-align: right;\">        7</td><td style=\"text-align: right;\">      0</td></tr>\n",
       "<tr><td style=\"text-align: right;\">        8</td><td style=\"text-align: right;\">      3</td></tr>\n",
       "<tr><td style=\"text-align: right;\">        9</td><td style=\"text-align: right;\">      0</td></tr>\n",
       "<tr><td style=\"text-align: right;\">       10</td><td style=\"text-align: right;\">      3</td></tr>\n",
       "</tbody>\n",
       "</table>"
      ]
     },
     "metadata": {},
     "output_type": "display_data"
    },
    {
     "data": {
      "text/plain": []
     },
     "execution_count": 23,
     "metadata": {},
     "output_type": "execute_result"
    }
   ],
   "source": [
    "submission_dataframe"
   ]
  },
  {
   "cell_type": "code",
   "execution_count": 28,
   "metadata": {
    "collapsed": false
   },
   "outputs": [
    {
     "name": "stdout",
     "output_type": "stream",
     "text": [
      "Export File progress: |███████████████████████████████████████████████████| 100%\n"
     ]
    }
   ],
   "source": [
    "h2o.export_file(submission_dataframe, path =\"submission_2.csv\", )"
   ]
  }
 ],
 "metadata": {
  "kernelspec": {
   "display_name": "Python [Root]",
   "language": "python",
   "name": "Python [Root]"
  },
  "language_info": {
   "codemirror_mode": {
    "name": "ipython",
    "version": 2
   },
   "file_extension": ".py",
   "mimetype": "text/x-python",
   "name": "python",
   "nbconvert_exporter": "python",
   "pygments_lexer": "ipython2",
   "version": "2.7.12"
  }
 },
 "nbformat": 4,
 "nbformat_minor": 0
}
